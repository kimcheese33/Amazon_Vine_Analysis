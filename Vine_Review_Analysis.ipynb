{
  "nbformat": 4,
  "nbformat_minor": 0,
  "metadata": {
    "colab": {
      "name": "Vine_Review_Analysis.ipynb",
      "provenance": [],
      "collapsed_sections": []
    },
    "kernelspec": {
      "name": "python3",
      "display_name": "Python 3"
    }
  },
  "cells": [
    {
      "cell_type": "code",
      "metadata": {
        "colab": {
          "base_uri": "https://localhost:8080/"
        },
        "id": "l_MI9VL2LOZC",
        "outputId": "6462161b-6ec0-406e-b667-eab95d90c930"
      },
      "source": [
        "import os\n",
        "# Find the latest version of spark 2.0  from http://www-us.apache.org/dist/spark/ and enter as the spark version\n",
        "# For example:\n",
        "# spark_version = 'spark-3.0.0'\n",
        "spark_version = 'spark-3.0.1'\n",
        "os.environ['SPARK_VERSION']=spark_version\n",
        "\n",
        "# Install Spark and Java\n",
        "!apt-get update\n",
        "!apt-get install openjdk-11-jdk-headless -qq > /dev/null\n",
        "!wget -q http://www-us.apache.org/dist/spark/$SPARK_VERSION/$SPARK_VERSION-bin-hadoop2.7.tgz\n",
        "!tar xf $SPARK_VERSION-bin-hadoop2.7.tgz\n",
        "!pip install -q findspark\n",
        "\n",
        "# Set Environment Variables\n",
        "import os\n",
        "os.environ[\"JAVA_HOME\"] = \"/usr/lib/jvm/java-11-openjdk-amd64\"\n",
        "os.environ[\"SPARK_HOME\"] = f\"/content/{spark_version}-bin-hadoop2.7\"\n",
        "\n",
        "# Start a SparkSession\n",
        "import findspark\n",
        "findspark.init()"
      ],
      "execution_count": 1,
      "outputs": [
        {
          "output_type": "stream",
          "text": [
            "\r0% [Working]\r            \rIgn:1 https://developer.download.nvidia.com/compute/cuda/repos/ubuntu1804/x86_64  InRelease\n",
            "Hit:2 https://cloud.r-project.org/bin/linux/ubuntu bionic-cran40/ InRelease\n",
            "Ign:3 https://developer.download.nvidia.com/compute/machine-learning/repos/ubuntu1804/x86_64  InRelease\n",
            "Hit:4 https://developer.download.nvidia.com/compute/cuda/repos/ubuntu1804/x86_64  Release\n",
            "Hit:5 http://ppa.launchpad.net/c2d4u.team/c2d4u4.0+/ubuntu bionic InRelease\n",
            "Hit:6 https://developer.download.nvidia.com/compute/machine-learning/repos/ubuntu1804/x86_64  Release\n",
            "Hit:7 http://security.ubuntu.com/ubuntu bionic-security InRelease\n",
            "Hit:8 http://archive.ubuntu.com/ubuntu bionic InRelease\n",
            "Hit:9 http://archive.ubuntu.com/ubuntu bionic-updates InRelease\n",
            "Hit:10 http://ppa.launchpad.net/cran/libgit2/ubuntu bionic InRelease\n",
            "Hit:11 http://archive.ubuntu.com/ubuntu bionic-backports InRelease\n",
            "Hit:12 http://ppa.launchpad.net/graphics-drivers/ppa/ubuntu bionic InRelease\n",
            "Reading package lists... Done\n"
          ],
          "name": "stdout"
        }
      ]
    },
    {
      "cell_type": "code",
      "metadata": {
        "id": "sPJlgxoFLplw"
      },
      "source": [
        "\t# Start Spark session\n",
        "from pyspark.sql import SparkSession\n",
        "spark = SparkSession.builder.appName(\"DataFrameBasics\").getOrCreate()\n"
      ],
      "execution_count": 2,
      "outputs": []
    },
    {
      "cell_type": "code",
      "metadata": {
        "colab": {
          "base_uri": "https://localhost:8080/"
        },
        "id": "miOARS-bLvVP",
        "outputId": "d670da75-c6c9-4b55-9ebd-49b75bd4d9ba"
      },
      "source": [
        "from pyspark import SparkFiles\n",
        "url = \"https://s3.amazonaws.com/amazon-reviews-pds/tsv/amazon_reviews_us_Beauty_v1_00.tsv.gz\"\n",
        "spark.sparkContext.addFile(url)\n",
        "df = spark.read.option(\"encoding\", \"UTF-8\").csv(SparkFiles.get(\"amazon_reviews_us_Beauty_v1_00.tsv.gz\"), sep=\"\\t\", header=True, inferSchema=True)\n",
        "df.show()"
      ],
      "execution_count": 3,
      "outputs": [
        {
          "output_type": "stream",
          "text": [
            "+-----------+-----------+--------------+----------+--------------+--------------------+----------------+-----------+-------------+-----------+----+-----------------+--------------------+---------------------+-----------+\n",
            "|marketplace|customer_id|     review_id|product_id|product_parent|       product_title|product_category|star_rating|helpful_votes|total_votes|vine|verified_purchase|     review_headline|          review_body|review_date|\n",
            "+-----------+-----------+--------------+----------+--------------+--------------------+----------------+-----------+-------------+-----------+----+-----------------+--------------------+---------------------+-----------+\n",
            "|         US|    1797882|R3I2DHQBR577SS|B001ANOOOE|       2102612|The Naked Bee Vit...|          Beauty|          5|            0|          0|   N|                Y|          Five Stars| Love this, excell...| 2015-08-31|\n",
            "|         US|   18381298|R1QNE9NQFJC2Y4|B0016J22EQ|     106393691|Alba Botanica Sun...|          Beauty|          5|            0|          0|   N|                Y|Thank you Alba Bo...| The great thing a...| 2015-08-31|\n",
            "|         US|   19242472|R3LIDG2Q4LJBAO|B00HU6UQAG|     375449471|Elysee Infusion S...|          Beauty|          5|            0|          0|   N|                Y|          Five Stars| Great Product, I'...| 2015-08-31|\n",
            "|         US|   19551372|R3KSZHPAEVPEAL|B002HWS7RM|     255651889|Diane D722 Color,...|          Beauty|          5|            0|          0|   N|                Y|          GOOD DEAL!| I use them as sho...| 2015-08-31|\n",
            "|         US|   14802407| RAI2OIG50KZ43|B00SM99KWU|     116158747|Biore UV Aqua Ric...|          Beauty|          5|            0|          0|   N|                Y|this soaks in qui...| This is my go-to ...| 2015-08-31|\n",
            "|         US|    2909389|R1R30FA4RB5P54|B000NYL1Z6|     166146615|Murad Clarifying ...|          Beauty|          4|            0|          0|   N|                Y|          Four Stars|                 Good| 2015-08-31|\n",
            "|         US|   19397215|R30IJKCGJBGPJH|B001SYWTFG|     111742328|CoverGirl Queen C...|          Beauty|          5|            0|          0|   N|                Y|            Good buy| Great eyeliner, d...| 2015-08-31|\n",
            "|         US|    3195210|R18GLJJPVQ1OVH|B005F2EVMQ|     255803087|Bifesta Mandom Ey...|          Beauty|          5|            0|          0|   N|                Y|          Five Stars|Best makeup remover！| 2015-08-31|\n",
            "|         US|   52216383| R8TVYIJXLYJT0|B00M1SUW7K|     246816549|Can You Handlebar...|          Beauty|          5|            0|          0|   N|                Y|Tame the wild mus...| This is a great p...| 2015-08-31|\n",
            "|         US|   10278216|R1CJGF6M3PVHEZ|B001KYQA1S|       9612905|Maybelline Great ...|          Beauty|          1|            0|          2|   N|                Y|but it's like hav...| I thought it woul...| 2015-08-31|\n",
            "|         US|   24655453|R2A30ALEGLMCGN|B00SAQ9DZY|     292127037|12 New, High Qual...|          Beauty|          4|            1|          1|   N|                Y|        Good Product| These are great f...| 2015-08-31|\n",
            "|         US|   30788223|R134GP1Y3EQZ1L|B00HFQQ0VU|     311309827|Waterpik Aquarius...|          Beauty|          5|            0|          0|   N|                Y| Optimum Oral Health| Just got this.  N...| 2015-08-31|\n",
            "|         US|   11257536| R6CE3SOIUJGP4|B00PYL8MAA|     390030149|Proganix Agave Ne...|          Beauty|          4|            1|          1|   N|                N|   Love this cream !| Wish I had discov...| 2015-08-31|\n",
            "|         US|   29605778|R37CDLQZUPDZVM|B00D9NV2D4|     794858888|         Shea Butter|          Beauty|          5|            0|          0|   N|                Y|It works so much ...| I bought this to ...| 2015-08-31|\n",
            "|         US|   41238422|R1KH9XCK6GYT26|B008Y9M412|     874223919|Etude House Fresh...|          Beauty|          5|            0|          0|   N|                Y|          Five Stars| The tint is aweso...| 2015-08-31|\n",
            "|         US|   23620123|R3I4BQ6654MQNA|B00FWXBLHG|     464001209|Vintage Lil' Spon...|          Beauty|          5|            1|          1|   N|                Y|Great product, fa...| I'm in love with ...| 2015-08-31|\n",
            "|         US|   25564245|R3LUPG356F1D40|B003KL8CB0|     328680790|Jenna Jameson Hea...|          Beauty|          5|            3|          3|   N|                N|Does not smell ch...| I was given this ...| 2015-08-31|\n",
            "|         US|     801375|R3HNVRTHL9S2ZB|B006R2LNV0|     620737389|Korean Cosmetics_...|          Beauty|          5|            0|          0|   N|                N|          Five Stars| Magical everybody...| 2015-08-31|\n",
            "|         US|    9478730| R5HKL5RD4IUT8|B00SMIIR0W|     351973146|Schick Hydro Silk...|          Beauty|          5|            0|          0|   N|                Y|Love this Razor/T...| Works fantastic! ...| 2015-08-31|\n",
            "|         US|   18418407|R37Z8NBTHPR853|B003UKKH6O|      10034795|Oral-B Vitality P...|          Beauty|          5|            0|          0|   N|                Y|          Five Stars| excellent battery...| 2015-08-31|\n",
            "+-----------+-----------+--------------+----------+--------------+--------------------+----------------+-----------+-------------+-----------+----+-----------------+--------------------+---------------------+-----------+\n",
            "only showing top 20 rows\n",
            "\n"
          ],
          "name": "stdout"
        }
      ]
    },
    {
      "cell_type": "code",
      "metadata": {
        "colab": {
          "base_uri": "https://localhost:8080/"
        },
        "id": "7vyS1SVXMm2W",
        "outputId": "89e42627-5a26-47b8-b9a6-4564957d74a6"
      },
      "source": [
        "# Create the vine_table. DataFrame\n",
        "vine_df = df.select(['review_id','star_rating','helpful_votes','total_votes','vine','verified_purchase'])\n",
        "vine_df.show(5)"
      ],
      "execution_count": 4,
      "outputs": [
        {
          "output_type": "stream",
          "text": [
            "+--------------+-----------+-------------+-----------+----+-----------------+\n",
            "|     review_id|star_rating|helpful_votes|total_votes|vine|verified_purchase|\n",
            "+--------------+-----------+-------------+-----------+----+-----------------+\n",
            "|R3I2DHQBR577SS|          5|            0|          0|   N|                Y|\n",
            "|R1QNE9NQFJC2Y4|          5|            0|          0|   N|                Y|\n",
            "|R3LIDG2Q4LJBAO|          5|            0|          0|   N|                Y|\n",
            "|R3KSZHPAEVPEAL|          5|            0|          0|   N|                Y|\n",
            "| RAI2OIG50KZ43|          5|            0|          0|   N|                Y|\n",
            "+--------------+-----------+-------------+-----------+----+-----------------+\n",
            "only showing top 5 rows\n",
            "\n"
          ],
          "name": "stdout"
        }
      ]
    },
    {
      "cell_type": "code",
      "metadata": {
        "colab": {
          "base_uri": "https://localhost:8080/"
        },
        "id": "4H8iNEERMnWS",
        "outputId": "6b01edf4-c0b3-4360-a72d-1b5805f1771f"
      },
      "source": [
        "#load in a sql function to use columns\n",
        "from pyspark.sql.functions import col\n",
        "\n",
        "#filter total_votes\n",
        "filtered_votes_df = vine_df.filter(col('total_votes') > 20)\n",
        "filtered_votes_df.show()\n"
      ],
      "execution_count": 5,
      "outputs": [
        {
          "output_type": "stream",
          "text": [
            "+--------------+-----------+-------------+-----------+----+-----------------+\n",
            "|     review_id|star_rating|helpful_votes|total_votes|vine|verified_purchase|\n",
            "+--------------+-----------+-------------+-----------+----+-----------------+\n",
            "|R2QRUE9REK8OUC|          5|           18|         23|   N|                Y|\n",
            "|R2POXRW6PXHXZG|          5|           25|         30|   N|                Y|\n",
            "| RZN43XRZ89IIJ|          3|           10|         27|   N|                N|\n",
            "|R29Q748WSHZ3SN|          5|           23|         24|   N|                Y|\n",
            "|R2UQHSNWU6WTZX|          5|           74|         76|   N|                N|\n",
            "|R2HSRI3D6E2M9Y|          5|           69|         71|   N|                Y|\n",
            "|R17ARFSDV555EW|          1|           29|         29|   N|                Y|\n",
            "|R3GL5156FFEDQA|          5|           20|         21|   N|                Y|\n",
            "|R29KQJC9PIYWQS|          5|           25|         26|   N|                Y|\n",
            "| RYWUJT2A33VJH|          5|           20|         22|   N|                N|\n",
            "|R1RKEBF47UEIVH|          5|           26|         30|   N|                N|\n",
            "|R2WIB8BHF77XIG|          4|           69|         78|   N|                N|\n",
            "|R20T4C0DA38YBD|          5|           22|         23|   N|                Y|\n",
            "| REUKY9DLNJXYF|          4|           21|         22|   N|                Y|\n",
            "|R2OH5QLD7MGJTG|          5|           48|         48|   N|                Y|\n",
            "|R179M7NOS1365W|          5|           88|         91|   N|                Y|\n",
            "|R2NPNCGM6T1JBA|          3|          253|        259|   N|                Y|\n",
            "|R345Z1BTFABFY0|          1|           19|         22|   N|                Y|\n",
            "|R2Z6FGGU3VNCT2|          1|           41|         46|   N|                N|\n",
            "|R2MYTB17SP8Z69|          1|           50|         59|   N|                Y|\n",
            "+--------------+-----------+-------------+-----------+----+-----------------+\n",
            "only showing top 20 rows\n",
            "\n"
          ],
          "name": "stdout"
        }
      ]
    },
    {
      "cell_type": "code",
      "metadata": {
        "colab": {
          "base_uri": "https://localhost:8080/"
        },
        "id": "Kl4uUlBjNL_D",
        "outputId": "af45de6b-ba45-4249-b9a1-349408403d0a"
      },
      "source": [
        "#retrieve all rows where helpful_votes/total_votes >= 50%\n",
        "divided_votes_df = filtered_votes_df.filter(col('helpful_votes')/col('total_votes') >= 0.5)\n",
        "divided_votes_df.show()"
      ],
      "execution_count": 6,
      "outputs": [
        {
          "output_type": "stream",
          "text": [
            "+--------------+-----------+-------------+-----------+----+-----------------+\n",
            "|     review_id|star_rating|helpful_votes|total_votes|vine|verified_purchase|\n",
            "+--------------+-----------+-------------+-----------+----+-----------------+\n",
            "|R2QRUE9REK8OUC|          5|           18|         23|   N|                Y|\n",
            "|R2POXRW6PXHXZG|          5|           25|         30|   N|                Y|\n",
            "|R29Q748WSHZ3SN|          5|           23|         24|   N|                Y|\n",
            "|R2UQHSNWU6WTZX|          5|           74|         76|   N|                N|\n",
            "|R2HSRI3D6E2M9Y|          5|           69|         71|   N|                Y|\n",
            "|R17ARFSDV555EW|          1|           29|         29|   N|                Y|\n",
            "|R3GL5156FFEDQA|          5|           20|         21|   N|                Y|\n",
            "|R29KQJC9PIYWQS|          5|           25|         26|   N|                Y|\n",
            "| RYWUJT2A33VJH|          5|           20|         22|   N|                N|\n",
            "|R1RKEBF47UEIVH|          5|           26|         30|   N|                N|\n",
            "|R2WIB8BHF77XIG|          4|           69|         78|   N|                N|\n",
            "|R20T4C0DA38YBD|          5|           22|         23|   N|                Y|\n",
            "| REUKY9DLNJXYF|          4|           21|         22|   N|                Y|\n",
            "|R2OH5QLD7MGJTG|          5|           48|         48|   N|                Y|\n",
            "|R179M7NOS1365W|          5|           88|         91|   N|                Y|\n",
            "|R2NPNCGM6T1JBA|          3|          253|        259|   N|                Y|\n",
            "|R345Z1BTFABFY0|          1|           19|         22|   N|                Y|\n",
            "|R2Z6FGGU3VNCT2|          1|           41|         46|   N|                N|\n",
            "|R2MYTB17SP8Z69|          1|           50|         59|   N|                Y|\n",
            "|R1TXQ0M82NQLMV|          5|           20|         22|   N|                N|\n",
            "+--------------+-----------+-------------+-----------+----+-----------------+\n",
            "only showing top 20 rows\n",
            "\n"
          ],
          "name": "stdout"
        }
      ]
    },
    {
      "cell_type": "code",
      "metadata": {
        "colab": {
          "base_uri": "https://localhost:8080/"
        },
        "id": "KKxhqU0SNmgZ",
        "outputId": "386153eb-9226-49af-a6df-03d7b6365d7c"
      },
      "source": [
        "#retrieve rows where review was written as part of vine program\n",
        "vine_reviews_df = divided_votes_df.filter(col('vine') == 'Y')\n",
        "vine_reviews_df.show()"
      ],
      "execution_count": 21,
      "outputs": [
        {
          "output_type": "stream",
          "text": [
            "+--------------+-----------+-------------+-----------+----+-----------------+\n",
            "|     review_id|star_rating|helpful_votes|total_votes|vine|verified_purchase|\n",
            "+--------------+-----------+-------------+-----------+----+-----------------+\n",
            "|R106V6GUNWRSSS|          5|          857|        889|   Y|                N|\n",
            "|R37N8KZS48W36A|          5|           36|         37|   Y|                N|\n",
            "|R1LNEQ2MQE03PD|          5|           49|         66|   Y|                N|\n",
            "|R1ECPWPUNK36ES|          5|           29|         31|   Y|                N|\n",
            "|R16BUM7UQZLOM6|          3|          107|        112|   Y|                N|\n",
            "| R7NWIOCA5RVPR|          5|           19|         26|   Y|                N|\n",
            "|R3NTGOCUZB33JK|          5|           40|         47|   Y|                Y|\n",
            "| RQX3RHGMG7UBN|          5|          186|        200|   Y|                N|\n",
            "|R3E6QYKZDST042|          4|           33|         39|   Y|                N|\n",
            "|R2GR106PWUN85O|          4|           36|         39|   Y|                N|\n",
            "| R5AJK8HCOKXV5|          4|           20|         23|   Y|                N|\n",
            "|R1AF6ANE5JFP4D|          5|           50|         55|   Y|                N|\n",
            "|R2FKVTMWD52KEY|          4|          265|        276|   Y|                N|\n",
            "| RZUT8OQAGWOYE|          5|           46|         49|   Y|                N|\n",
            "| RQ0N3J1IZKGMA|          1|           63|         63|   Y|                N|\n",
            "|R1Z88KA5VANTXS|          2|           42|         47|   Y|                N|\n",
            "|R3M9NW8LPEKTWX|          5|           20|         21|   Y|                Y|\n",
            "|R16QHBYJJ01R4P|          5|           23|         24|   Y|                N|\n",
            "|R2I21V7CIK0S6T|          5|           20|         22|   Y|                N|\n",
            "|R2HN6VDLXQSG1B|          4|           24|         26|   Y|                N|\n",
            "+--------------+-----------+-------------+-----------+----+-----------------+\n",
            "only showing top 20 rows\n",
            "\n"
          ],
          "name": "stdout"
        },
        {
          "output_type": "execute_result",
          "data": {
            "text/plain": [
              "616"
            ]
          },
          "metadata": {
            "tags": []
          },
          "execution_count": 21
        }
      ]
    },
    {
      "cell_type": "code",
      "metadata": {
        "colab": {
          "base_uri": "https://localhost:8080/"
        },
        "id": "xXldPZYfg23I",
        "outputId": "63dedad7-344a-4a08-fe4a-0f79cbb9f29b"
      },
      "source": [
        "#number of vine reviews\n",
        "vine_reviews_df.count()"
      ],
      "execution_count": 23,
      "outputs": [
        {
          "output_type": "execute_result",
          "data": {
            "text/plain": [
              "616"
            ]
          },
          "metadata": {
            "tags": []
          },
          "execution_count": 23
        }
      ]
    },
    {
      "cell_type": "code",
      "metadata": {
        "colab": {
          "base_uri": "https://localhost:8080/"
        },
        "id": "HRGuLEmwOedr",
        "outputId": "52b550a6-db56-4c10-fe1f-d65207c48591"
      },
      "source": [
        "#retrieve rows where review was NOT written as part of vine program\n",
        "non_vine_reviews_df = divided_votes_df.filter(col('vine') == 'N')\n",
        "non_vine_reviews_df.show()"
      ],
      "execution_count": 8,
      "outputs": [
        {
          "output_type": "stream",
          "text": [
            "+--------------+-----------+-------------+-----------+----+-----------------+\n",
            "|     review_id|star_rating|helpful_votes|total_votes|vine|verified_purchase|\n",
            "+--------------+-----------+-------------+-----------+----+-----------------+\n",
            "|R2QRUE9REK8OUC|          5|           18|         23|   N|                Y|\n",
            "|R2POXRW6PXHXZG|          5|           25|         30|   N|                Y|\n",
            "|R29Q748WSHZ3SN|          5|           23|         24|   N|                Y|\n",
            "|R2UQHSNWU6WTZX|          5|           74|         76|   N|                N|\n",
            "|R2HSRI3D6E2M9Y|          5|           69|         71|   N|                Y|\n",
            "|R17ARFSDV555EW|          1|           29|         29|   N|                Y|\n",
            "|R3GL5156FFEDQA|          5|           20|         21|   N|                Y|\n",
            "|R29KQJC9PIYWQS|          5|           25|         26|   N|                Y|\n",
            "| RYWUJT2A33VJH|          5|           20|         22|   N|                N|\n",
            "|R1RKEBF47UEIVH|          5|           26|         30|   N|                N|\n",
            "|R2WIB8BHF77XIG|          4|           69|         78|   N|                N|\n",
            "|R20T4C0DA38YBD|          5|           22|         23|   N|                Y|\n",
            "| REUKY9DLNJXYF|          4|           21|         22|   N|                Y|\n",
            "|R2OH5QLD7MGJTG|          5|           48|         48|   N|                Y|\n",
            "|R179M7NOS1365W|          5|           88|         91|   N|                Y|\n",
            "|R2NPNCGM6T1JBA|          3|          253|        259|   N|                Y|\n",
            "|R345Z1BTFABFY0|          1|           19|         22|   N|                Y|\n",
            "|R2Z6FGGU3VNCT2|          1|           41|         46|   N|                N|\n",
            "|R2MYTB17SP8Z69|          1|           50|         59|   N|                Y|\n",
            "|R1TXQ0M82NQLMV|          5|           20|         22|   N|                N|\n",
            "+--------------+-----------+-------------+-----------+----+-----------------+\n",
            "only showing top 20 rows\n",
            "\n"
          ],
          "name": "stdout"
        }
      ]
    },
    {
      "cell_type": "code",
      "metadata": {
        "colab": {
          "base_uri": "https://localhost:8080/"
        },
        "id": "lIceJ-5PgmWK",
        "outputId": "41ef236d-759e-4b9b-e13f-57833a2a6021"
      },
      "source": [
        "#number of non vine reviews\n",
        "on_vine_reviews_df.count()"
      ],
      "execution_count": 22,
      "outputs": [
        {
          "output_type": "execute_result",
          "data": {
            "text/plain": [
              "69432"
            ]
          },
          "metadata": {
            "tags": []
          },
          "execution_count": 22
        }
      ]
    },
    {
      "cell_type": "code",
      "metadata": {
        "id": "NBTtKstQOsQP",
        "colab": {
          "base_uri": "https://localhost:8080/"
        },
        "outputId": "629ea886-18f6-40c4-ab75-da89e3e21f2c"
      },
      "source": [
        "#total number of reviews\n",
        "vine_df.count()"
      ],
      "execution_count": 10,
      "outputs": [
        {
          "output_type": "execute_result",
          "data": {
            "text/plain": [
              "5115666"
            ]
          },
          "metadata": {
            "tags": []
          },
          "execution_count": 10
        }
      ]
    },
    {
      "cell_type": "code",
      "metadata": {
        "colab": {
          "base_uri": "https://localhost:8080/"
        },
        "id": "jXjuL0QxO-KH",
        "outputId": "2f3028fa-1c96-4d3c-948e-38ecbb9d9771"
      },
      "source": [
        "#number of 5 star reviews\n",
        "vine_df.filter(col('star_rating') == 5).count()"
      ],
      "execution_count": 11,
      "outputs": [
        {
          "output_type": "execute_result",
          "data": {
            "text/plain": [
              "3254753"
            ]
          },
          "metadata": {
            "tags": []
          },
          "execution_count": 11
        }
      ]
    },
    {
      "cell_type": "code",
      "metadata": {
        "colab": {
          "base_uri": "https://localhost:8080/"
        },
        "id": "AkaB0ZDxhck-",
        "outputId": "e9f09ad8-3528-40db-f8c4-09cc4f7a665c"
      },
      "source": [
        "#number of 5 star vine reviews\n",
        "vine_df.filter((col('star_rating') == 5) & (col('vine') == 'Y')).count()"
      ],
      "execution_count": 24,
      "outputs": [
        {
          "output_type": "execute_result",
          "data": {
            "text/plain": [
              "12429"
            ]
          },
          "metadata": {
            "tags": []
          },
          "execution_count": 24
        }
      ]
    },
    {
      "cell_type": "code",
      "metadata": {
        "colab": {
          "base_uri": "https://localhost:8080/"
        },
        "id": "u1FRBqVChr_h",
        "outputId": "2c3036a3-3873-4921-86b7-181e12b3d657"
      },
      "source": [
        "#number of 5 star non vine reviews\n",
        "vine_df.filter((col('star_rating') == 5) & (col('vine') == 'N')).count()"
      ],
      "execution_count": 25,
      "outputs": [
        {
          "output_type": "execute_result",
          "data": {
            "text/plain": [
              "3242324"
            ]
          },
          "metadata": {
            "tags": []
          },
          "execution_count": 25
        }
      ]
    },
    {
      "cell_type": "code",
      "metadata": {
        "colab": {
          "base_uri": "https://localhost:8080/"
        },
        "id": "6Xwm1q87aQjn",
        "outputId": "8687c97a-7237-429c-dd43-9d46fe978c74"
      },
      "source": [
        "#percentage of 5 star reviews for paid \n",
        "(vine_df.filter((col('star_rating') == 5) & (col('vine') == 'Y')).count() / vine_df.filter(col('star_rating') == 5).count()) * 100"
      ],
      "execution_count": 17,
      "outputs": [
        {
          "output_type": "execute_result",
          "data": {
            "text/plain": [
              "0.38187229568572484"
            ]
          },
          "metadata": {
            "tags": []
          },
          "execution_count": 17
        }
      ]
    },
    {
      "cell_type": "code",
      "metadata": {
        "colab": {
          "base_uri": "https://localhost:8080/"
        },
        "id": "EUftfZRubdy3",
        "outputId": "4f50237c-fb5a-4781-8de7-0caf550cc6b4"
      },
      "source": [
        "#percentage of 5 star reviews for non paid \n",
        "(vine_df.filter((col('star_rating') == 5) & (col('vine') == 'N')).count() / vine_df.filter(col('star_rating') == 5).count()) * 100"
      ],
      "execution_count": 18,
      "outputs": [
        {
          "output_type": "execute_result",
          "data": {
            "text/plain": [
              "99.61812770431428"
            ]
          },
          "metadata": {
            "tags": []
          },
          "execution_count": 18
        }
      ]
    }
  ]
}